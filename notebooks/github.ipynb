{
 "cells": [
  {
   "cell_type": "code",
   "execution_count": null,
   "metadata": {
    "tags": []
   },
   "outputs": [],
   "source": [
    "from pystackql import StackQL\n",
    "import json\n",
    "import pandas as pd\n",
    "provider_auth =  {\n",
    "    \"github\": {\n",
    "        \"credentialsenvvar\": \"GITHUBCREDS\",\n",
    "        \"type\": \"basic\"\n",
    "    }\n",
    "}\n",
    "stackql = StackQL(auth=provider_auth)"
   ]
  },
  {
   "cell_type": "code",
   "execution_count": null,
   "metadata": {
    "tags": []
   },
   "outputs": [],
   "source": [
    "stackql.executeStmt(\"REGISTRY PULL github\")"
   ]
  },
  {
   "cell_type": "code",
   "execution_count": null,
   "metadata": {
    "tags": []
   },
   "outputs": [],
   "source": [
    "org = \"stackql\""
   ]
  },
  {
   "cell_type": "code",
   "execution_count": null,
   "metadata": {
    "tags": []
   },
   "outputs": [],
   "source": [
    "query = \"select name, stargazers_count from github.repos.repos where org = '%s' order by stargazers_count desc limit 10\" % (org)\n",
    "stargazers = pd.read_json(stackql.execute(query)).sort_values('stargazers_count', ascending=False)"
   ]
  },
  {
   "cell_type": "code",
   "execution_count": null,
   "metadata": {
    "tags": []
   },
   "outputs": [],
   "source": [
    "stargazers.plot(kind='bar', title='Stargazers', x='name', y='stargazers_count')"
   ]
  },
  {
   "cell_type": "code",
   "execution_count": null,
   "metadata": {
    "tags": []
   },
   "outputs": [],
   "source": [
    "query = \"select name from github.repos.repos where org = '%s'\" % (org)\n",
    "repos = pd.read_json(stackql.execute(query))"
   ]
  },
  {
   "cell_type": "code",
   "execution_count": null,
   "metadata": {
    "tags": []
   },
   "outputs": [],
   "source": [
    "# star all repos in an org\n",
    "for index, row in repos.iterrows():\n",
    "    repo = row['name']\n",
    "    print(\"starring %s\" % repo)\n",
    "    query = \"\"\"\n",
    "    EXEC github.activity.starred_repos.star_repo_for_authenticated_user @owner='%s', @repo='%s'\n",
    "    \"\"\" % (org, repo)\n",
    "    stackql.executeStmt(query)\n",
    "\n"
   ]
  }
 ],
 "metadata": {
  "kernelspec": {
   "display_name": "Python 3 (ipykernel)",
   "language": "python",
   "name": "python3"
  },
  "language_info": {
   "codemirror_mode": {
    "name": "ipython",
    "version": 3
   },
   "file_extension": ".py",
   "mimetype": "text/x-python",
   "name": "python",
   "nbconvert_exporter": "python",
   "pygments_lexer": "ipython3",
   "version": "3.10.4"
  },
  "vscode": {
   "interpreter": {
    "hash": "3ad933181bd8a04b432d3370b9dc3b0662ad032c4dfaa4e4f1596c548f763858"
   }
  }
 },
 "nbformat": 4,
 "nbformat_minor": 4
}
