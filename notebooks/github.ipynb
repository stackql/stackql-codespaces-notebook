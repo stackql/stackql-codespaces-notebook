{
 "cells": [
  {
   "cell_type": "code",
   "execution_count": null,
   "metadata": {
    "tags": []
   },
   "outputs": [],
   "source": [
    "%load_ext pystackql.magic"
   ]
  },
  {
   "cell_type": "code",
   "execution_count": null,
   "metadata": {},
   "outputs": [],
   "source": [
    "%stackql registry pull github"
   ]
  },
  {
   "cell_type": "code",
   "execution_count": null,
   "metadata": {
    "tags": []
   },
   "outputs": [],
   "source": [
    "org = \"stackql\"\n",
    "owner = \"stackql\"\n",
    "repo = \"stackql\""
   ]
  },
  {
   "cell_type": "markdown",
   "metadata": {},
   "source": [
    "## Top Stargazers per Repo"
   ]
  },
  {
   "cell_type": "code",
   "execution_count": null,
   "metadata": {
    "tags": []
   },
   "outputs": [],
   "source": [
    "%%stackql\n",
    "select name, stargazers FROM\n",
    "(select name, stargazers_count as stargazers\n",
    "from github.repos.repos \n",
    "where org = '$org' \n",
    "and visibility = 'public'\n",
    "order by stargazers_count desc) t\n",
    "limit 10"
   ]
  },
  {
   "cell_type": "code",
   "execution_count": null,
   "metadata": {
    "tags": []
   },
   "outputs": [],
   "source": [
    "_.plot(kind='bar', title='Stargazers', x='name', y='stargazers');"
   ]
  },
  {
   "cell_type": "markdown",
   "metadata": {},
   "source": [
    "## Daily Traffic Stats for `stackql`"
   ]
  },
  {
   "cell_type": "code",
   "execution_count": null,
   "metadata": {},
   "outputs": [],
   "source": [
    "%%stackql\n",
    "select \n",
    "JSON_EXTRACT(json_each.value, '$$.count') as count,\n",
    "JSON_EXTRACT(json_each.value, '$$.uniques') as uniques,\n",
    "DATE(JSON_EXTRACT(json_each.value, '$$.timestamp')) as date\n",
    "from github.repos.view_traffic, json_each(views) \n",
    "WHERE owner = '$owner' AND repo = '$repo'"
   ]
  },
  {
   "cell_type": "code",
   "execution_count": null,
   "metadata": {},
   "outputs": [],
   "source": [
    "import matplotlib.pyplot as plt\n",
    "\n",
    "df = stackql_df\n",
    "fig, ax = plt.subplots(figsize=(10,6))\n",
    "ax.bar(df['date'], df['count'], color='b', alpha=0.6, label='Count')\n",
    "ax.plot(df['date'], df['uniques'], color='r', marker='o', label='Uniques')\n",
    "\n",
    "ax.set_xlabel('Date')\n",
    "ax.set_ylabel('Value')\n",
    "ax.set_xticks(df['date'])\n",
    "ax.set_xticklabels(df['date'], rotation=45)\n",
    "ax.legend()\n",
    "\n",
    "plt.title('Count and Uniques Over Time')\n",
    "fig.tight_layout()\n",
    "plt.show()"
   ]
  },
  {
   "cell_type": "markdown",
   "metadata": {},
   "source": [
    "## Repo Contributors who Arent Stargazers"
   ]
  },
  {
   "cell_type": "code",
   "execution_count": null,
   "metadata": {},
   "outputs": [],
   "source": [
    "%%stackql\n",
    "SELECT c.login as contrtibutor FROM \n",
    "github.repos.contributors c\n",
    "LEFT OUTER JOIN github.activity.repo_stargazers s\n",
    "ON s.login = c.login\n",
    "WHERE owner = '$owner' AND repo = '$repo'\n",
    "AND s.login IS NULL"
   ]
  },
  {
   "cell_type": "markdown",
   "metadata": {},
   "source": [
    "## Org Followers who Arent Stargazers"
   ]
  },
  {
   "cell_type": "code",
   "execution_count": null,
   "metadata": {},
   "outputs": [],
   "source": [
    "%%stackql\n",
    "SELECT f.login FROM \n",
    "github.users.followers f\n",
    "LEFT OUTER JOIN github.activity.repo_stargazers s\n",
    "ON f.login = s.login\n",
    "WHERE s.owner = '$owner' AND s.repo = '$repo' AND f.username = '$org'\n",
    "AND s.login IS NULL"
   ]
  },
  {
   "cell_type": "markdown",
   "metadata": {},
   "source": [
    "## Repo Watchers who Arent Stargazers"
   ]
  },
  {
   "cell_type": "code",
   "execution_count": null,
   "metadata": {},
   "outputs": [],
   "source": [
    "%%stackql\n",
    "SELECT w.login FROM \n",
    "github.activity.repo_watchers w\n",
    "LEFT OUTER JOIN github.activity.repo_stargazers s\n",
    "ON w.login = s.login\n",
    "WHERE owner = '$owner' AND repo = '$repo'\n",
    "AND s.login IS NULL"
   ]
  }
 ],
 "metadata": {
  "kernelspec": {
   "display_name": "Python 3 (ipykernel)",
   "language": "python",
   "name": "python3"
  },
  "language_info": {
   "codemirror_mode": {
    "name": "ipython",
    "version": 3
   },
   "file_extension": ".py",
   "mimetype": "text/x-python",
   "name": "python",
   "nbconvert_exporter": "python",
   "pygments_lexer": "ipython3",
   "version": "3.10.4"
  },
  "vscode": {
   "interpreter": {
    "hash": "3ad933181bd8a04b432d3370b9dc3b0662ad032c4dfaa4e4f1596c548f763858"
   }
  }
 },
 "nbformat": 4,
 "nbformat_minor": 4
}
